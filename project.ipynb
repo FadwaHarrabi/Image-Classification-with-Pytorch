{
 "cells": [
  {
   "cell_type": "code",
   "execution_count": 23,
   "metadata": {},
   "outputs": [],
   "source": [
    "import numpy as np\n",
    "from PIL import Image\n",
    "import torch\n",
    "import torch.nn as nn\n",
    "import torch.nn.functional as F\n",
    "import torch.optim as optim\n",
    "import torchvision \n",
    "import torchvision.transforms as transforms\n",
    "from torch.utils.data import DataLoader"
   ]
  },
  {
   "cell_type": "code",
   "execution_count": 24,
   "metadata": {},
   "outputs": [],
   "source": [
    "transform = transforms.Compose([\n",
    "    transforms.ToTensor(),\n",
    "    transforms.Normalize((0.5, 0.5, 0.5), (0.5, 0.5, 0.5))\n",
    "])\n"
   ]
  },
  {
   "cell_type": "code",
   "execution_count": 25,
   "metadata": {},
   "outputs": [
    {
     "name": "stdout",
     "output_type": "stream",
     "text": [
      "Files already downloaded and verified\n",
      "Files already downloaded and verified\n"
     ]
    }
   ],
   "source": [
    "train_data=torchvision.datasets.CIFAR10(root='./data',train=True,transform=transform,download=True)\n",
    "test_data=torchvision.datasets.CIFAR10(root='./data',train=False,transform=transform,download=True)\n",
    "\n",
    "\n",
    "train_loader=DataLoader(train_data,batch_size=32,shuffle=True,num_workers=2)\n",
    "test_loader=DataLoader(test_data,batch_size=32,shuffle=True,num_workers=2)"
   ]
  },
  {
   "cell_type": "code",
   "execution_count": 26,
   "metadata": {},
   "outputs": [],
   "source": [
    "image,label=train_data[0]"
   ]
  },
  {
   "cell_type": "code",
   "execution_count": 27,
   "metadata": {},
   "outputs": [
    {
     "data": {
      "text/plain": [
       "tensor([[[-0.5373, -0.6627, -0.6078,  ...,  0.2392,  0.1922,  0.1608],\n",
       "         [-0.8745, -1.0000, -0.8588,  ..., -0.0353, -0.0667, -0.0431],\n",
       "         [-0.8039, -0.8745, -0.6157,  ..., -0.0745, -0.0588, -0.1451],\n",
       "         ...,\n",
       "         [ 0.6314,  0.5765,  0.5529,  ...,  0.2549, -0.5608, -0.5843],\n",
       "         [ 0.4118,  0.3569,  0.4588,  ...,  0.4431, -0.2392, -0.3490],\n",
       "         [ 0.3882,  0.3176,  0.4039,  ...,  0.6941,  0.1843, -0.0353]],\n",
       "\n",
       "        [[-0.5137, -0.6392, -0.6235,  ...,  0.0353, -0.0196, -0.0275],\n",
       "         [-0.8431, -1.0000, -0.9373,  ..., -0.3098, -0.3490, -0.3176],\n",
       "         [-0.8118, -0.9451, -0.7882,  ..., -0.3412, -0.3412, -0.4275],\n",
       "         ...,\n",
       "         [ 0.3333,  0.2000,  0.2627,  ...,  0.0431, -0.7569, -0.7333],\n",
       "         [ 0.0902, -0.0353,  0.1294,  ...,  0.1608, -0.5137, -0.5843],\n",
       "         [ 0.1294,  0.0118,  0.1137,  ...,  0.4431, -0.0745, -0.2784]],\n",
       "\n",
       "        [[-0.5059, -0.6471, -0.6627,  ..., -0.1529, -0.2000, -0.1922],\n",
       "         [-0.8431, -1.0000, -1.0000,  ..., -0.5686, -0.6078, -0.5529],\n",
       "         [-0.8353, -1.0000, -0.9373,  ..., -0.6078, -0.6078, -0.6706],\n",
       "         ...,\n",
       "         [-0.2471, -0.7333, -0.7961,  ..., -0.4510, -0.9451, -0.8431],\n",
       "         [-0.2471, -0.6706, -0.7647,  ..., -0.2627, -0.7333, -0.7333],\n",
       "         [-0.0902, -0.2627, -0.3176,  ...,  0.0980, -0.3412, -0.4353]]])"
      ]
     },
     "execution_count": 27,
     "metadata": {},
     "output_type": "execute_result"
    }
   ],
   "source": [
    "image"
   ]
  },
  {
   "cell_type": "code",
   "execution_count": 28,
   "metadata": {},
   "outputs": [
    {
     "data": {
      "text/plain": [
       "torch.Size([3, 32, 32])"
      ]
     },
     "execution_count": 28,
     "metadata": {},
     "output_type": "execute_result"
    }
   ],
   "source": [
    "image.size()"
   ]
  },
  {
   "cell_type": "code",
   "execution_count": 29,
   "metadata": {},
   "outputs": [],
   "source": [
    "class_names=[\"plane\",\"car\",\"bird\",\"cat\",\"deer\",\"dog\",\"frog\",\"horse\",\"ship\",\"truck\"]"
   ]
  },
  {
   "cell_type": "code",
   "execution_count": 30,
   "metadata": {},
   "outputs": [],
   "source": [
    "class NeuralNet(nn.Module):\n",
    "    def __init__(self):\n",
    "        super().__init__()\n",
    "        self.conv1=nn.Conv2d(3,12,5) # 32- 5 /   1=27+1=28  =====>feature_map=(12,28,28)\n",
    "        self.pool=nn.MaxPool2d(2,2)# (12,14,14)\n",
    "        self.conv2=nn.Conv2d(12,24,5) # (24,10,10) -> (24,5,5) -> Flatten (24*5*5)\n",
    "        self.fc1=nn.Linear(24 * 5 * 5,120)\n",
    "        self.fc2=nn.Linear(120,84)\n",
    "        self.fc3=nn.Linear(84,10)  # 1à is the number of classe  in this dataset\n",
    "\n",
    "\n",
    "    def forward(self,x):\n",
    "        x=self.pool(F.relu(self.conv1(x)))\n",
    "        x=self.pool(F.relu(self.conv2(x)))\n",
    "        x=torch.flatten(x,1)\n",
    "        x=F.relu(self.fc1(x))\n",
    "        x=F.relu(self.fc2(x))\n",
    "        x=self.fc3(x)\n",
    "        return x "
   ]
  },
  {
   "cell_type": "code",
   "execution_count": 31,
   "metadata": {},
   "outputs": [],
   "source": [
    "model=NeuralNet()\n",
    "loss_function=nn.CrossEntropyLoss()\n",
    "optimizer=optim.SGD(model.parameters(),lr=0.001,momentum=0.9)"
   ]
  },
  {
   "cell_type": "code",
   "execution_count": 32,
   "metadata": {},
   "outputs": [
    {
     "name": "stdout",
     "output_type": "stream",
     "text": [
      "training epch 0\n",
      "Loss:2.1998\n",
      "training epch 1\n",
      "Loss:1.7110\n",
      "training epch 2\n",
      "Loss:1.4923\n",
      "training epch 3\n",
      "Loss:1.3796\n",
      "training epch 4\n",
      "Loss:1.2809\n",
      "training epch 5\n",
      "Loss:1.1930\n",
      "training epch 6\n",
      "Loss:1.1182\n",
      "training epch 7\n",
      "Loss:1.0626\n",
      "training epch 8\n",
      "Loss:1.0140\n",
      "training epch 9\n",
      "Loss:0.9704\n",
      "training epch 10\n",
      "Loss:0.9314\n",
      "training epch 11\n",
      "Loss:0.8968\n",
      "training epch 12\n",
      "Loss:0.8617\n",
      "training epch 13\n",
      "Loss:0.8309\n",
      "training epch 14\n",
      "Loss:0.8015\n",
      "training epch 15\n",
      "Loss:0.7703\n",
      "training epch 16\n",
      "Loss:0.7429\n",
      "training epch 17\n",
      "Loss:0.7144\n",
      "training epch 18\n",
      "Loss:0.6894\n",
      "training epch 19\n",
      "Loss:0.6632\n",
      "training epch 20\n",
      "Loss:0.6381\n",
      "training epch 21\n",
      "Loss:0.6138\n",
      "training epch 22\n",
      "Loss:0.5923\n",
      "training epch 23\n",
      "Loss:0.5665\n",
      "training epch 24\n",
      "Loss:0.5492\n",
      "training epch 25\n",
      "Loss:0.5269\n",
      "training epch 26\n",
      "Loss:0.5024\n",
      "training epch 27\n",
      "Loss:0.4854\n",
      "training epch 28\n",
      "Loss:0.4668\n",
      "training epch 29\n",
      "Loss:0.4455\n"
     ]
    }
   ],
   "source": [
    "for epoch in range(30):\n",
    "    print(f'training epch {epoch}')\n",
    "    running_loss=0\n",
    "    for i ,data in enumerate(train_loader):\n",
    "        inputs,labels=data\n",
    "        optimizer.zero_grad()\n",
    "        output=model(inputs)\n",
    "        loss=loss_function(output,labels)\n",
    "        loss.backward()\n",
    "        optimizer.step()\n",
    "\n",
    "        running_loss += loss.item()\n",
    "    print(f'Loss:{running_loss /len(train_loader):.4f}')\n"
   ]
  },
  {
   "cell_type": "code",
   "execution_count": 33,
   "metadata": {},
   "outputs": [],
   "source": [
    "torch.save(model.state_dict(),\"model.pth\")\n"
   ]
  },
  {
   "cell_type": "code",
   "execution_count": 34,
   "metadata": {},
   "outputs": [
    {
     "name": "stderr",
     "output_type": "stream",
     "text": [
      "C:\\Users\\user\\AppData\\Local\\Temp\\ipykernel_11532\\161103824.py:2: FutureWarning: You are using `torch.load` with `weights_only=False` (the current default value), which uses the default pickle module implicitly. It is possible to construct malicious pickle data which will execute arbitrary code during unpickling (See https://github.com/pytorch/pytorch/blob/main/SECURITY.md#untrusted-models for more details). In a future release, the default value for `weights_only` will be flipped to `True`. This limits the functions that could be executed during unpickling. Arbitrary objects will no longer be allowed to be loaded via this mode unless they are explicitly allowlisted by the user via `torch.serialization.add_safe_globals`. We recommend you start setting `weights_only=True` for any use case where you don't have full control of the loaded file. Please open an issue on GitHub for any issues related to this experimental feature.\n",
      "  net.load_state_dict(torch.load(\"model.pth\"))\n"
     ]
    },
    {
     "data": {
      "text/plain": [
       "<All keys matched successfully>"
      ]
     },
     "execution_count": 34,
     "metadata": {},
     "output_type": "execute_result"
    }
   ],
   "source": [
    "net=NeuralNet()\n",
    "net.load_state_dict(torch.load(\"model.pth\"))"
   ]
  },
  {
   "cell_type": "code",
   "execution_count": 36,
   "metadata": {},
   "outputs": [
    {
     "name": "stdout",
     "output_type": "stream",
     "text": [
      "Accuracy:68.64%\n"
     ]
    }
   ],
   "source": [
    "correct=0\n",
    "total=0\n",
    "net.eval()\n",
    "with torch.no_grad():\n",
    "    for data in test_loader:\n",
    "        images,labels=data\n",
    "        outputs=net(images)\n",
    "        _,predicted=torch.max(outputs,1)\n",
    "        total+= labels.size(0)\n",
    "        correct+= (predicted ==labels).sum().item()\n",
    "\n",
    "accuracy=100* correct /total\n",
    "print(f\"Accuracy:{accuracy}%\")\n"
   ]
  },
  {
   "cell_type": "code",
   "execution_count": 38,
   "metadata": {},
   "outputs": [],
   "source": [
    "new_transform=transforms.Compose([\n",
    "    transforms.ToTensor(),\n",
    "    transforms.Normalize((0.5, 0.5, 0.5), (0.5, 0.5, 0.5)),\n",
    "    transforms.Resize((32,32))\n",
    "])\n",
    "\n",
    "def load_image(image_path):\n",
    "    image=Image.open(image_path)\n",
    "    image=new_transform(image)\n",
    "    image=image.unsqueeze(0) # add addionnal dimension\n",
    "    return image\n",
    "\n",
    "image_paths=[\"German-Shepherd-dog-Alsatian.webp\",\"PROD-Airplane-flying-above-clouds.webp\"]\n",
    "images=[load_image(img) for img in image_paths]"
   ]
  },
  {
   "cell_type": "code",
   "execution_count": 39,
   "metadata": {},
   "outputs": [
    {
     "name": "stdout",
     "output_type": "stream",
     "text": [
      "prediction:dog\n",
      "prediction:plane\n"
     ]
    }
   ],
   "source": [
    "net.eval()\n",
    "with torch.no_grad():\n",
    "    for image in images:\n",
    "        optimizer.zero_grad()\n",
    "        output=net(image)\n",
    "        _,predicted=torch.max(output,1)\n",
    "        print(f\"prediction:{class_names[predicted.item()]}\")\n"
   ]
  },
  {
   "cell_type": "code",
   "execution_count": null,
   "metadata": {},
   "outputs": [],
   "source": []
  }
 ],
 "metadata": {
  "kernelspec": {
   "display_name": "pfa",
   "language": "python",
   "name": "python3"
  },
  "language_info": {
   "codemirror_mode": {
    "name": "ipython",
    "version": 3
   },
   "file_extension": ".py",
   "mimetype": "text/x-python",
   "name": "python",
   "nbconvert_exporter": "python",
   "pygments_lexer": "ipython3",
   "version": "3.11.8"
  }
 },
 "nbformat": 4,
 "nbformat_minor": 2
}
